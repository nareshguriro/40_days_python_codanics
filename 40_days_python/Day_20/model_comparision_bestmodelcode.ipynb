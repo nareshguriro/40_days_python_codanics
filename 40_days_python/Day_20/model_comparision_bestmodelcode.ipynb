{
 "cells": [
  {
   "attachments": {},
   "cell_type": "markdown",
   "metadata": {},
   "source": [
    "code for best model performace comparisioon of different classification\\\n",
    " model on same dataset for best model selection "
   ]
  },
  {
   "cell_type": "code",
   "execution_count": null,
   "metadata": {},
   "outputs": [],
   "source": [
    "# # Decision Tree Classifier and use best parameters\n",
    "# import pandas as pd\n",
    "# import seaborn as sns\n",
    "# df = sns.load_dataset(\"titanic\")\n",
    "# X = df[['pclass', 'sex', 'age', 'sibsp', 'parch', 'fare']]\n",
    "# y = df['survived']\n",
    "# X = pd.get_dummies(X, columns=['sex'])\n",
    "# X.age.fillna(value = X['age'].mean(), inplace=True)\n",
    "\n",
    "# from sklearn.tree import DecisionTreeClassifier\n",
    "# from sklearn.model_selection import GridSearchCV\n",
    "# import numpy as np\n",
    "# #create a model\n",
    "# model = DecisionTreeClassifier()\n",
    "# # define parameter grid\n",
    "# param_grid = {'max_depth': [3, 5, 7, None], 'min_samples_split': [2, 3, 4]}\n",
    "\n",
    "# #object grid search cv (Creating the model)\n",
    "# grid_search = GridSearchCV(model, param_grid, cv=5, scoring='precision')\n",
    "\n",
    "# #traing the model\n",
    "# grid_search.fit(X,y)\n",
    "\n",
    "# # print the best parameters\n",
    "# print(\"Best Parameters: \", grid_search.best_params_)\n",
    "# print(\"Best Score: \", grid_search.best_score_)\n",
    "\n",
    "# # Best Parameters:  {'max_depth': 3, 'min_samples_split': 2}\n",
    "# # Best Score:  0.775"
   ]
  }
 ],
 "metadata": {
  "language_info": {
   "name": "python"
  },
  "orig_nbformat": 4
 },
 "nbformat": 4,
 "nbformat_minor": 2
}
